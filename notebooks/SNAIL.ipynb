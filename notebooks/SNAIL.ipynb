{
 "cells": [
  {
   "cell_type": "code",
   "execution_count": 1,
   "metadata": {
    "collapsed": true
   },
   "outputs": [],
   "source": [
    "import math\n",
    "\n",
    "import numpy as np\n",
    "import torch\n",
    "import torch.nn as nn\n",
    "import torch.nn.functional as F\n",
    "from torch.autograd import Variable"
   ]
  },
  {
   "cell_type": "code",
   "execution_count": 5,
   "metadata": {
    "collapsed": true
   },
   "outputs": [],
   "source": [
    "class CausalConv1d(nn.Module):\n",
    "    # https://discuss.pytorch.org/t/causal-convolution/3456/4\n",
    "    def __init__(self, in_channels, out_channels, kernel = 2,dilation=2):\n",
    "        super(CausalConv1d, self).__init__()\n",
    "        \n",
    "        self.kernel = kernel\n",
    "        self.padding = (kernel - 1)*dilation\n",
    "        self.dilation = dilation\n",
    "        self.causal_conv = nn.Conv1d(in_channels, out_channels, 2, padding = self.padding, dilation = dilation)\n",
    "\n",
    "    def forward(self, input):\n",
    "        return self.causal_conv(input)[:, :, :-self.padding]"
   ]
  },
  {
   "cell_type": "code",
   "execution_count": 6,
   "metadata": {
    "collapsed": true
   },
   "outputs": [],
   "source": [
    "class DenseBlock(nn.Module):\n",
    "    \n",
    "    def __init__(self,in_channels,num_filters,dilation_rate = 2):\n",
    "        \n",
    "        super(DenseBlock,self).__init__()\n",
    "        \n",
    "        self.causal_conv = CausalConv1d(in_channels,num_filters,dilation=dilation_rate)\n",
    "        \n",
    "    def forward(self,input):\n",
    "        \n",
    "        xf = F.tanh(self.causal_conv(input))\n",
    "        xb = F.sigmoid(self.causal_conv(input))\n",
    "        \n",
    "        activations = xf*gf\n",
    "        \n",
    "        return torch.cat([input,activations],dim = 1)\n",
    "        "
   ]
  },
  {
   "cell_type": "code",
   "execution_count": 7,
   "metadata": {
    "collapsed": true
   },
   "outputs": [],
   "source": [
    "class TCBlock(nn.Module):\n",
    "    \n",
    "    \n",
    "    def __init__(self, in_channels, filters, seq_len):\n",
    "        \n",
    "        super(TCBlock, self).__init__()\n",
    "        layer_count = math.ceil(math.log(seq_len)/math.log(2))\n",
    "        blocks = []\n",
    "        channel_count = in_channels\n",
    "        for layer in range(layer_count):\n",
    "            block = DenseBlock(channel_count, filters, dilation=2**layer)\n",
    "            blocks.append(block)\n",
    "            channel_count += filters\n",
    "        self.blocks = nn.Sequential(*blocks)\n",
    "\n",
    "    def forward(self, input):\n",
    "        return self.blocks(input)\n",
    "    "
   ]
  },
  {
   "cell_type": "code",
   "execution_count": 9,
   "metadata": {
    "collapsed": true
   },
   "outputs": [],
   "source": [
    "class AttetionBlock(nn.Module):\n",
    "    \n",
    "    def __init__(self, dims, k_size, v_size, seq_len):\n",
    "        \n",
    "        super(AttentionBlock, self).__init__()\n",
    "        \n",
    "        self.key_layer = nn.Linear(dims, k_size)\n",
    "        self.query_layer = nn.Linear(dims, k_size)\n",
    "        self.value_layer = nn.Linear(dims, v_size)\n",
    "        self.sqrt_k = math.sqrt(k_size)\n",
    "        \n",
    "    def forward(self,input):\n",
    "        \n",
    "        keys = self.key_layer(input)\n",
    "        queries = self.query_layer(input)\n",
    "        \n",
    "        logits = torch.bmm(queries, keys.transpose(2,1))\n",
    "        \n",
    "        mask = np.triu(np.ones(logits.size()), k=1).astype('uint8')\n",
    "        mask = torch.from_numpy(mask)\n",
    "        # do masked_fill_ on data rather than Variable because PyTorch doesn't\n",
    "        # support masked_fill_ w/-inf directly on Variables for some reason.\n",
    "        logits.data.masked_fill_(mask, float('-inf'))\n",
    "        probs = F.softmax(logits, dim=1) / self.sqrt_k\n",
    "        read = torch.bmm(probs, values)\n",
    "        return torch.cat([minibatch, read], dim=2)\n",
    "        "
   ]
  },
  {
   "cell_type": "code",
   "execution_count": null,
   "metadata": {
    "collapsed": true
   },
   "outputs": [],
   "source": []
  }
 ],
 "metadata": {
  "kernelspec": {
   "display_name": "Python 3",
   "language": "python",
   "name": "python3"
  },
  "language_info": {
   "codemirror_mode": {
    "name": "ipython",
    "version": 3
   },
   "file_extension": ".py",
   "mimetype": "text/x-python",
   "name": "python",
   "nbconvert_exporter": "python",
   "pygments_lexer": "ipython3",
   "version": "3.6.3"
  }
 },
 "nbformat": 4,
 "nbformat_minor": 2
}
