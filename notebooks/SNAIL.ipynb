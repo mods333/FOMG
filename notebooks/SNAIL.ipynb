{
 "cells": [
  {
   "cell_type": "code",
   "execution_count": 2,
   "metadata": {},
   "outputs": [],
   "source": [
    "import math\n",
    "import sys\n",
    "sys.path.insert(0, '../src')\n",
    "\n",
    "from loaders import *\n",
    "from episode import *\n",
    "from dataset import *\n",
    "from collections import Counter\n",
    "\n",
    "import numpy as np\n",
    "import torch\n",
    "import torch.nn as nn\n",
    "import torch.nn.functional as F\n",
    "from torch.autograd import Variable"
   ]
  },
  {
   "cell_type": "code",
   "execution_count": 27,
   "metadata": {
    "collapsed": true
   },
   "outputs": [],
   "source": [
    "class CausalConv1d(nn.Module):\n",
    "    # https://discuss.pytorch.org/t/causal-convolution/3456/4\n",
    "    def __init__(self, in_channels, out_channels, kernel = 2,dilation=2):\n",
    "        super(CausalConv1d, self).__init__()\n",
    "        \n",
    "        self.kernel = kernel\n",
    "        self.padding = (kernel - 1)*dilation\n",
    "        self.dilation = dilation\n",
    "        self.causal_conv = nn.Conv1d(in_channels, out_channels, 2, padding = self.padding, dilation = dilation)\n",
    "\n",
    "    def forward(self, input):\n",
    "        return self.causal_conv(input)[:, :, :-self.padding]"
   ]
  },
  {
   "cell_type": "code",
   "execution_count": 57,
   "metadata": {
    "collapsed": true
   },
   "outputs": [],
   "source": [
    "class DenseBlock(nn.Module):\n",
    "    \n",
    "    def __init__(self,in_channels,num_filters,dilation_rate = 2):\n",
    "        \n",
    "        super(DenseBlock,self).__init__()\n",
    "        \n",
    "        self.causal_conv = CausalConv1d(in_channels,num_filters,2,dilation=dilation_rate)\n",
    "        \n",
    "    def forward(self,input):\n",
    "        \n",
    "        xf = F.tanh(self.causal_conv(input))\n",
    "        xb = F.sigmoid(self.causal_conv(input))\n",
    "        \n",
    "        activations = xf*xb\n",
    "        \n",
    "        return torch.cat([input,activations],dim = 1)\n",
    "        "
   ]
  },
  {
   "cell_type": "code",
   "execution_count": 66,
   "metadata": {
    "collapsed": true
   },
   "outputs": [],
   "source": [
    "class TCBlock(nn.Module):\n",
    "    \n",
    "    \n",
    "    def __init__(self, in_channels, filters, seq_len):\n",
    "        \n",
    "        super(TCBlock, self).__init__()\n",
    "        layer_count = math.ceil(math.log(seq_len)/math.log(2))\n",
    "        blocks = []\n",
    "        channel_count = in_channels\n",
    "        for layer in range(layer_count):\n",
    "            block = DenseBlock(channel_count, filters, dilation_rate=2**layer)\n",
    "            blocks.append(block)\n",
    "            channel_count += filters\n",
    "        self.blocks = nn.Sequential(*blocks)\n",
    "\n",
    "    def forward(self, input):\n",
    "        return self.blocks(input)\n",
    "    "
   ]
  },
  {
   "cell_type": "code",
   "execution_count": 79,
   "metadata": {
    "collapsed": true
   },
   "outputs": [],
   "source": [
    "class AttentionBlock(nn.Module):\n",
    "    \n",
    "    def __init__(self, dims, k_size, v_size, seq_len):\n",
    "        \n",
    "        super(AttentionBlock, self).__init__()\n",
    "        \n",
    "        self.key_layer = nn.Linear(dims, k_size)\n",
    "        self.query_layer = nn.Linear(dims, k_size)\n",
    "        self.value_layer = nn.Linear(dims, v_size)\n",
    "        self.sqrt_k = math.sqrt(k_size)\n",
    "        \n",
    "    def forward(self,input):\n",
    "        \n",
    "        keys = self.key_layer(input)\n",
    "        queries = self.query_layer(input)\n",
    "        values = self.value_layer(input)\n",
    "        \n",
    "        logits = torch.bmm(queries, keys.transpose(2,1))\n",
    "        \n",
    "        mask = np.triu(np.ones(logits.size()), k=1).astype('uint8')\n",
    "        mask = torch.from_numpy(mask)\n",
    "        # do masked_fill_ on data rather than Variable because PyTorch doesn't\n",
    "        # support masked_fill_ w/-inf directly on Variables for some reason.\n",
    "        logits.data.masked_fill_(mask, float('-inf'))\n",
    "        probs = F.softmax(logits, dim=1) / self.sqrt_k\n",
    "        \n",
    "        read = torch.bmm(probs, values)\n",
    "        return torch.cat([input, read], dim=2)\n",
    "        "
   ]
  },
  {
   "cell_type": "code",
   "execution_count": 9,
   "metadata": {},
   "outputs": [
    {
     "name": "stdout",
     "output_type": "stream",
     "text": [
      "Blink 182 blowjob.mid\n",
      "Blink 182 timetobreakup.mid\n",
      "Blink 182 anewhope.mid\n",
      "Blink 182 imlostwithoutyou.mid\n",
      "Blink 182 depends.mid\n",
      "Blink 182 boysdontcry.mid\n",
      "Blink 182 dysenterygary.mid\n",
      "Blink 182 dontleaveme.mid\n",
      "Blink 182 toforgiveistosuffer.mid\n",
      "Blink 182 countrysong(live).mid\n",
      "Blink 182 familyreunion(versionlive).mid\n"
     ]
    }
   ],
   "source": [
    "eps = load_sampler_from_config(\"../src/test.yaml\")\n",
    "song = eps.get_episode().support[0][0]\n",
    "song = list(song)"
   ]
  },
  {
   "cell_type": "code",
   "execution_count": 60,
   "metadata": {
    "collapsed": true
   },
   "outputs": [],
   "source": [
    "dense_block = DenseBlock(1,5)"
   ]
  },
  {
   "cell_type": "code",
   "execution_count": 61,
   "metadata": {},
   "outputs": [],
   "source": [
    "use_cuda = torch.cuda.is_available()\n",
    "vocabulary_size = 16*128*2 + 32*16 + 100 + 1 # 4708 + 1\n",
    "vocabulary_size = vocabulary_size + 2 # SOS (index 4709) and EOS (index 4710)\n",
    "SOS_TOKEN = 4709\n",
    "EOS_TOKEN = 4710\n",
    "encoding_size = 500\n",
    "one_hot_embeddings = np.eye(vocabulary_size)"
   ]
  },
  {
   "cell_type": "code",
   "execution_count": 62,
   "metadata": {},
   "outputs": [],
   "source": [
    "input_variables = []\n",
    "original_sequences = []\n",
    "\n",
    "trunc_seq = [SOS_TOKEN] + list(song) + [EOS_TOKEN]\n",
    "original_sequences.append(trunc_seq)\n",
    "seq_length = len(trunc_seq)\n",
    "\n",
    "trunc_seq = torch.from_numpy(np.array(one_hot_embeddings[trunc_seq])) # This is really time consuming\n",
    "\n",
    "trunc_seq = trunc_seq.view(seq_length, vocabulary_size)\n",
    "trunc_seq = Variable(trunc_seq).float()\n",
    "input_variables.append(trunc_seq)"
   ]
  },
  {
   "cell_type": "code",
   "execution_count": 63,
   "metadata": {},
   "outputs": [
    {
     "data": {
      "text/plain": [
       "Variable containing:\n",
       "( 0  ,.,.) = \n",
       "   0   0   0  ...    0   1   0\n",
       "\n",
       "( 1  ,.,.) = \n",
       "   0   0   0  ...    0   0   0\n",
       "\n",
       "( 2  ,.,.) = \n",
       "   0   0   0  ...    0   0   0\n",
       " ... \n",
       "\n",
       "(499 ,.,.) = \n",
       "   0   0   0  ...    0   0   0\n",
       "\n",
       "(500 ,.,.) = \n",
       "   0   0   0  ...    0   0   0\n",
       "\n",
       "(501 ,.,.) = \n",
       "   0   0   0  ...    0   0   1\n",
       "[torch.FloatTensor of size 502x1x4711]"
      ]
     },
     "execution_count": 63,
     "metadata": {},
     "output_type": "execute_result"
    }
   ],
   "source": [
    "x = trunc_seq.unsqueeze(1)\n",
    "x"
   ]
  },
  {
   "cell_type": "code",
   "execution_count": 64,
   "metadata": {},
   "outputs": [
    {
     "data": {
      "text/plain": [
       "Variable containing:\n",
       "( 0  ,.,.) = \n",
       "  0.0000  0.0000  0.0000  ...   0.0000  1.0000  0.0000\n",
       "  0.1342  0.1342  0.1342  ...   0.1342  0.5171  0.1342\n",
       " -0.1723 -0.1723 -0.1723  ...  -0.1723 -0.0246 -0.1723\n",
       "  0.3318  0.3318  0.3318  ...   0.3318  0.5119  0.3318\n",
       "  0.1261  0.1261  0.1261  ...   0.1261  0.1798  0.1261\n",
       " -0.1673 -0.1673 -0.1673  ...  -0.1673 -0.1732 -0.1673\n",
       "\n",
       "( 1  ,.,.) = \n",
       "  0.0000  0.0000  0.0000  ...   0.0000  0.0000  0.0000\n",
       "  0.1342  0.1342  0.1342  ...   0.1342  0.1342  0.1342\n",
       " -0.1723 -0.1723 -0.1723  ...  -0.1723 -0.1723 -0.1723\n",
       "  0.3318  0.3318  0.3318  ...   0.3318  0.3318  0.3318\n",
       "  0.1261  0.1261  0.1261  ...   0.1261  0.1261  0.1261\n",
       " -0.1673 -0.1673 -0.1673  ...  -0.1673 -0.1673 -0.1673\n",
       "\n",
       "( 2  ,.,.) = \n",
       "  0.0000  0.0000  0.0000  ...   0.0000  0.0000  0.0000\n",
       "  0.1342  0.1342  0.1342  ...   0.1342  0.1342  0.1342\n",
       " -0.1723 -0.1723 -0.1723  ...  -0.1723 -0.1723 -0.1723\n",
       "  0.3318  0.3318  0.3318  ...   0.3318  0.3318  0.3318\n",
       "  0.1261  0.1261  0.1261  ...   0.1261  0.1261  0.1261\n",
       " -0.1673 -0.1673 -0.1673  ...  -0.1673 -0.1673 -0.1673\n",
       " ... \n",
       "\n",
       "(499 ,.,.) = \n",
       "  0.0000  0.0000  0.0000  ...   0.0000  0.0000  0.0000\n",
       "  0.1342  0.1342  0.1342  ...   0.1342  0.1342  0.1342\n",
       " -0.1723 -0.1723 -0.1723  ...  -0.1723 -0.1723 -0.1723\n",
       "  0.3318  0.3318  0.3318  ...   0.3318  0.3318  0.3318\n",
       "  0.1261  0.1261  0.1261  ...   0.1261  0.1261  0.1261\n",
       " -0.1673 -0.1673 -0.1673  ...  -0.1673 -0.1673 -0.1673\n",
       "\n",
       "(500 ,.,.) = \n",
       "  0.0000  0.0000  0.0000  ...   0.0000  0.0000  0.0000\n",
       "  0.1342  0.1342  0.1342  ...   0.1342  0.1342  0.1342\n",
       " -0.1723 -0.1723 -0.1723  ...  -0.1723 -0.1723 -0.1723\n",
       "  0.3318  0.3318  0.3318  ...   0.3318  0.3318  0.3318\n",
       "  0.1261  0.1261  0.1261  ...   0.1261  0.1261  0.1261\n",
       " -0.1673 -0.1673 -0.1673  ...  -0.1673 -0.1673 -0.1673\n",
       "\n",
       "(501 ,.,.) = \n",
       "  0.0000  0.0000  0.0000  ...   0.0000  0.0000  1.0000\n",
       "  0.1342  0.1342  0.1342  ...   0.1342  0.1342  0.5171\n",
       " -0.1723 -0.1723 -0.1723  ...  -0.1723 -0.1723 -0.0246\n",
       "  0.3318  0.3318  0.3318  ...   0.3318  0.3318  0.5119\n",
       "  0.1261  0.1261  0.1261  ...   0.1261  0.1261  0.1798\n",
       " -0.1673 -0.1673 -0.1673  ...  -0.1673 -0.1673 -0.1732\n",
       "[torch.FloatTensor of size 502x6x4711]"
      ]
     },
     "execution_count": 64,
     "metadata": {},
     "output_type": "execute_result"
    }
   ],
   "source": [
    "dense_block(x)"
   ]
  },
  {
   "cell_type": "code",
   "execution_count": 67,
   "metadata": {},
   "outputs": [],
   "source": [
    "tc_block = TCBlock(1,5, 502)"
   ]
  },
  {
   "cell_type": "code",
   "execution_count": 68,
   "metadata": {},
   "outputs": [
    {
     "data": {
      "text/plain": [
       "Variable containing:\n",
       "( 0  ,.,.) = \n",
       "  0.0000  0.0000  0.0000  ...   0.0000  1.0000  0.0000\n",
       "  0.0128  0.0128  0.0128  ...   0.0128  0.0120 -0.0275\n",
       " -0.0619 -0.0619 -0.0619  ...  -0.0619 -0.2063  0.0688\n",
       "           ...             ⋱             ...          \n",
       "  0.0370  0.0370  0.0347  ...   0.0261  0.0644  0.0306\n",
       "  0.0293  0.0293  0.0303  ...   0.0325 -0.0120  0.0215\n",
       " -0.0101 -0.0101 -0.0090  ...  -0.0295 -0.0749 -0.0471\n",
       "\n",
       "( 1  ,.,.) = \n",
       "  0.0000  0.0000  0.0000  ...   0.0000  0.0000  0.0000\n",
       "  0.0128  0.0128  0.0128  ...   0.0128  0.0128  0.0128\n",
       " -0.0619 -0.0619 -0.0619  ...  -0.0619 -0.0619 -0.0619\n",
       "           ...             ⋱             ...          \n",
       "  0.0370  0.0370  0.0347  ...   0.0261  0.0261  0.0261\n",
       "  0.0293  0.0293  0.0303  ...   0.0325  0.0325  0.0325\n",
       " -0.0101 -0.0101 -0.0090  ...  -0.0295 -0.0295 -0.0295\n",
       "\n",
       "( 2  ,.,.) = \n",
       "  0.0000  0.0000  0.0000  ...   0.0000  0.0000  0.0000\n",
       "  0.0128  0.0128  0.0128  ...   0.0128  0.0128  0.0128\n",
       " -0.0619 -0.0619 -0.0619  ...  -0.0619 -0.0619 -0.0619\n",
       "           ...             ⋱             ...          \n",
       "  0.0370  0.0370  0.0347  ...   0.0261  0.0261  0.0261\n",
       "  0.0293  0.0293  0.0303  ...   0.0325  0.0325  0.0325\n",
       " -0.0101 -0.0101 -0.0090  ...  -0.0295 -0.0295 -0.0295\n",
       " ... \n",
       "\n",
       "(499 ,.,.) = \n",
       "  0.0000  0.0000  0.0000  ...   0.0000  0.0000  0.0000\n",
       "  0.0128  0.0128  0.0128  ...   0.0128  0.0128  0.0128\n",
       " -0.0619 -0.0619 -0.0619  ...  -0.0619 -0.0619 -0.0619\n",
       "           ...             ⋱             ...          \n",
       "  0.0370  0.0370  0.0347  ...   0.0261  0.0261  0.0261\n",
       "  0.0293  0.0293  0.0303  ...   0.0325  0.0325  0.0325\n",
       " -0.0101 -0.0101 -0.0090  ...  -0.0295 -0.0295 -0.0295\n",
       "\n",
       "(500 ,.,.) = \n",
       "  0.0000  0.0000  0.0000  ...   0.0000  0.0000  0.0000\n",
       "  0.0128  0.0128  0.0128  ...   0.0128  0.0128  0.0128\n",
       " -0.0619 -0.0619 -0.0619  ...  -0.0619 -0.0619 -0.0619\n",
       "           ...             ⋱             ...          \n",
       "  0.0370  0.0370  0.0347  ...   0.0261  0.0261  0.0261\n",
       "  0.0293  0.0293  0.0303  ...   0.0325  0.0325  0.0325\n",
       " -0.0101 -0.0101 -0.0090  ...  -0.0295 -0.0295 -0.0295\n",
       "\n",
       "(501 ,.,.) = \n",
       "  0.0000  0.0000  0.0000  ...   0.0000  0.0000  1.0000\n",
       "  0.0128  0.0128  0.0128  ...   0.0128  0.0128  0.0120\n",
       " -0.0619 -0.0619 -0.0619  ...  -0.0619 -0.0619 -0.2063\n",
       "           ...             ⋱             ...          \n",
       "  0.0370  0.0370  0.0347  ...   0.0261  0.0261  0.0644\n",
       "  0.0293  0.0293  0.0303  ...   0.0325  0.0325 -0.0120\n",
       " -0.0101 -0.0101 -0.0090  ...  -0.0295 -0.0295 -0.0749\n",
       "[torch.FloatTensor of size 502x46x4711]"
      ]
     },
     "execution_count": 68,
     "metadata": {},
     "output_type": "execute_result"
    }
   ],
   "source": [
    "tc_block(x)"
   ]
  },
  {
   "cell_type": "code",
   "execution_count": 80,
   "metadata": {},
   "outputs": [],
   "source": [
    "attention_block = AttentionBlock(4711, 300, 300, 502)"
   ]
  },
  {
   "cell_type": "code",
   "execution_count": 81,
   "metadata": {},
   "outputs": [
    {
     "data": {
      "text/plain": [
       "Variable containing:\n",
       "( 0  ,.,.) = \n",
       "  0.0000  0.0000  0.0000  ...  -0.0005  0.0008  0.0001\n",
       "\n",
       "( 1  ,.,.) = \n",
       "  0.0000  0.0000  0.0000  ...  -0.0001 -0.0005  0.0011\n",
       "\n",
       "( 2  ,.,.) = \n",
       "  0.0000  0.0000  0.0000  ...  -0.0001 -0.0002 -0.0003\n",
       " ... \n",
       "\n",
       "(499 ,.,.) = \n",
       "  0.0000  0.0000  0.0000  ...  -0.0012  0.0005  0.0006\n",
       "\n",
       "(500 ,.,.) = \n",
       "  0.0000  0.0000  0.0000  ...  -0.0012 -0.0008  0.0011\n",
       "\n",
       "(501 ,.,.) = \n",
       "  0.0000  0.0000  0.0000  ...  -0.0010  0.0002  0.0008\n",
       "[torch.FloatTensor of size 502x1x5011]"
      ]
     },
     "execution_count": 81,
     "metadata": {},
     "output_type": "execute_result"
    }
   ],
   "source": [
    "attention_block(x)"
   ]
  },
  {
   "cell_type": "code",
   "execution_count": null,
   "metadata": {
    "collapsed": true
   },
   "outputs": [],
   "source": []
  }
 ],
 "metadata": {
  "kernelspec": {
   "display_name": "Python 3",
   "language": "python",
   "name": "python3"
  },
  "language_info": {
   "codemirror_mode": {
    "name": "ipython",
    "version": 3
   },
   "file_extension": ".py",
   "mimetype": "text/x-python",
   "name": "python",
   "nbconvert_exporter": "python",
   "pygments_lexer": "ipython3",
   "version": "3.6.3"
  }
 },
 "nbformat": 4,
 "nbformat_minor": 2
}
